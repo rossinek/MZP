{
 "cells": [
  {
   "cell_type": "markdown",
   "metadata": {},
   "source": [
    "### P4.1 Symulacja ruchu kulek na siatce sprężynowej\n",
    "\n",
    "Rozważyć ruch kulek zamieszczonych na siatce sprężynowej (2D lub 3D).\n",
    "\n",
    "- Utworzyć animację kulek umieszczonych na siatce.\n",
    "- Rozważyć różne współczynniki oporu r\n",
    "- Rozważyć dodatkową siłę grawitacji\n",
    "- Rozważyć ramę siatki rozmiaru n x m"
   ]
  },
  {
   "cell_type": "markdown",
   "metadata": {},
   "source": [
    "$m_i x_i'' = \\sum_{j} \\vec{F}_{i,j} + \\vec{G}_{i}$\n",
    "\n",
    "gdzie\n",
    "\n",
    "$\\vec{F}_{i,j}=\\frac{(\\vec{x}_{j}-\\vec{x}_{i})}{d_{i,j}}\\cdot(d_{i,j}-l)\\cdot k$\n",
    "\n",
    "$\\vec{G}_{i}=-r\\cdot ||\\vec{x}_i'||^{\\alpha}_2 \\cdot \\frac{\\vec{x}_i'}{||\\vec{x}_i'||_2}$\n",
    "\n",
    "$d_{i,j} = ||\\vec{x}_i-\\vec{x}_j||_2$  –  odległość kulek\n",
    "\n",
    "$l$  –  długość sprężynek w spoczynku\n",
    "\n",
    "oraz $\\alpha$ = 2, 1"
   ]
  },
  {
   "cell_type": "code",
   "execution_count": 145,
   "metadata": {
    "collapsed": true
   },
   "outputs": [],
   "source": [
    "%matplotlib inline\n",
    "import sympy as sp\n",
    "import numpy as np\n",
    "import matplotlib.pyplot as plt\n",
    "\n",
    "def L2norm(val):\n",
    "    return (val[0]**2+val[1]**2)**0.5\n",
    "\n",
    "def getNeighbours(i,j,x,l):\n",
    "    neighbours = []\n",
    "    if i-1>=0:\n",
    "        neighbours.append(x[i-1,j])\n",
    "    else:\n",
    "        neighbours.append(np.array([0.,l*(j+1)], np.float64))\n",
    "    if i+1<x.shape[0]:\n",
    "        neighbours.append(x[i+1,j])\n",
    "    else:\n",
    "        neighbours.append(np.array([l*(x.shape[0]+1),l*(j+1)], np.float64))\n",
    "    if j-1>=0:\n",
    "        neighbours.append(x[i,j-1])\n",
    "    else:\n",
    "        neighbours.append(np.array([l*(i+1),0.], np.float64))\n",
    "    if j+1<x.shape[1]:\n",
    "        neighbours.append(x[i,j+1])\n",
    "    else:\n",
    "        neighbours.append(np.array([l*(i+1),l*(x.shape[1]+1)], np.float64))\n",
    "    return neighbours\n",
    "        \n",
    "# sila F dla kulki (i,j)\n",
    "def F(i, j, x, k, l):\n",
    "    f = np.array([0,0], np.float64)\n",
    "    x_ij = x[i,j]\n",
    "    \n",
    "    for x_n in getNeighbours(i,j,x,l):\n",
    "        d = L2norm(x_ij-x_n)\n",
    "        f += ((x_n - x_ij)/d)*(d-l)*k\n",
    "    return f\n",
    "\n",
    "# sila G dla kulki (i,j)\n",
    "def G(i, j, xp, r, alpha):\n",
    "    xp_ij = xp[i,j]\n",
    "    if L2norm(xp_ij) == 0.:\n",
    "        return np.array([0, 0], np.float64)\n",
    "    #print xp_ij\n",
    "    g = (-r) * (L2norm(xp_ij)**alpha) * (xp_ij/L2norm(xp_ij))\n",
    "    return g"
   ]
  },
  {
   "cell_type": "code",
   "execution_count": 153,
   "metadata": {
    "collapsed": true
   },
   "outputs": [],
   "source": [
    "def euler2_hybrid_vec_xy(k, l, m, r, alpha, x0, xp0, rng, h):\n",
    "    (N, M, two) = x0.shape\n",
    "    t0, tn = rng\n",
    "    \n",
    "    t = np.arange(t0,tn,h)\n",
    "    x, xp = np.zeros((N, M, len(t), 2), np.float64), np.zeros((N, M, len(t), 2), np.float64)\n",
    "    x[:,:, 0], xp[:,:, 0] = x0, xp0\n",
    "    \n",
    "    for ti in range(1, len(t)):\n",
    "        for i in range(N):\n",
    "             for j in range(M):\n",
    "                fi = (F(i,j,x[:,:,ti-1],k,l)+G(i,j,xp[:,:,ti-1],r,alpha))/m[i,j]\n",
    "                #print F(i,j,x[:,:,ti-1],k,l)\n",
    "                xp[i,j,ti] = xp[i,j,ti-1] + h*fi\n",
    "                x[i,j,ti] =  x[i,j,ti-1] + h * xp[i,j,ti]\n",
    "    return t, x, xp"
   ]
  },
  {
   "cell_type": "code",
   "execution_count": 240,
   "metadata": {
    "collapsed": false
   },
   "outputs": [],
   "source": [
    "r = 1\n",
    "alpha = 1\n",
    "k = 10\n",
    "l = 0.2\n",
    "\n",
    "m = np.array([[5, 1, 1],[1, 1, 1],[1, 1, 1]], np.float64)\n",
    "x0 = np.array(\n",
    "    [\n",
    "        [[0.2, 0.2], [0.2, 0.4], [0.2, 0.6]],\n",
    "        [[0.4, 0.2], [0.4, 0.4], [0.4, 0.6]],\n",
    "        [[0.6, 0.2], [0.6, 0.4], [0.6, 0.6]]\n",
    "    ], np.float64)\n",
    "xp0 = np.zeros_like(x0)\n",
    "rng = (0,10)\n",
    "h = 1/60.\n",
    "\n"
   ]
  },
  {
   "cell_type": "code",
   "execution_count": 241,
   "metadata": {
    "collapsed": false
   },
   "outputs": [
    {
     "name": "stdout",
     "output_type": "stream",
     "text": [
      "(3, 3, 600, 2) (600,)\n"
     ]
    },
    {
     "data": {
      "image/png": "[encoded data removed]",
      "text/plain": [
       "<matplotlib.figure.Figure at 0x7fbf0acfbb10>"
      ]
     },
     "metadata": {},
     "output_type": "display_data"
    }
   ],
   "source": [
    "t, x, xp = euler2_hybrid_vec_xy(k, l, m, r, alpha, x0, xp0, rng, h)\n",
    "\n",
    "#print x\n",
    "print x.shape, t.shape\n",
    "plt.plot(t, x[1,0,:,0], 'g')\n",
    "plt.show()"
   ]
  },
  {
   "cell_type": "code",
   "execution_count": 242,
   "metadata": {
    "collapsed": false
   },
   "outputs": [],
   "source": [
    "import cv2\n",
    "import time\n",
    "\n",
    "def render_balls(pos, r, l, shape):\n",
    "    img = np.ones(shape)*[32,40,48]\n",
    "    (N, M, two) = pos.shape\n",
    "    for i in range(N):\n",
    "        for j in range(M):\n",
    "            center = (int(pos[i,j,0]), int(pos[i,j,1]))\n",
    "            neighbours = getNeighbours(i,j,pos,l)\n",
    "            for pos_n in neighbours:\n",
    "                # color in order to tension\n",
    "                tension = (l-abs(L2norm(np.array(center)-np.array(pos_n))))*(255./l)\n",
    "                color = [\n",
    "                    128+np.clip(-tension,-127,127),\n",
    "                    128+np.clip(-tension,-127,127),\n",
    "                    128+np.clip(tension,-127,127)\n",
    "                ]\n",
    "                cv2.line(img, center, (int(pos_n[0]), int(pos_n[1])), color, 2)\n",
    "    \n",
    "    for i in range(N):\n",
    "        for j in range(M):\n",
    "            center = (int(pos[i,j,0]), int(pos[i,j,1]))\n",
    "            cv2.circle(img, center, int(r[i,j]), [82,16,213], -1)\n",
    "            cv2.circle(img, (center[0]+int(r[i,j]/3),center[1]-int(r[i,j]/3)), int(r[i,j])/3, [235,240,245], -1)\n",
    "    return img\n",
    "\n",
    "def balls_animation(t, x, m, l, max_size):\n",
    "    (N, M, _, _) = x.shape\n",
    "    if M>N:\n",
    "        frame_size = (max_size, int(((N+1.)/(M+1.))*max_size))\n",
    "        scale = max_size/(l*(M+1))\n",
    "    else:\n",
    "        frame_size = (int(((M+1.)/(N+1.))*max_size), max_size)\n",
    "        scale = max_size/(l*(N+1))\n",
    "    \n",
    "    shape = (frame_size[1], frame_size[0], 3)\n",
    "    video = cv2.VideoWriter(\n",
    "        'output/v_'+str(time.time())+'.avi',\n",
    "        cv2.VideoWriter_fourcc(*'MJPG'),\n",
    "        len(t)//t[-1],frame_size)\n",
    "    \n",
    "    r = m/np.max(m)\n",
    "    r = (r**0.5)*14\n",
    "    for i in range(len(t)):\n",
    "        frame = render_balls(x[:,:,i]*scale, r, l*scale, shape)\n",
    "        video.write(frame.astype(np.uint8))\n",
    "        \n",
    "    video.release()\n",
    "\n",
    "balls_animation(t, x, m, l, 800)"
   ]
  }
 ],
 "metadata": {
  "anaconda-cloud": {},
  "kernelspec": {
   "display_name": "Python [conda root]",
   "language": "python",
   "name": "conda-root-py"
  },
  "language_info": {
   "codemirror_mode": {
    "name": "ipython",
    "version": 2
   },
   "file_extension": ".py",
   "mimetype": "text/x-python",
   "name": "python",
   "nbconvert_exporter": "python",
   "pygments_lexer": "ipython2",
   "version": "2.7.12"
  }
 },
 "nbformat": 4,
 "nbformat_minor": 1
}
