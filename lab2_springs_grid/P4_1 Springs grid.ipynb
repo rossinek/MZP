{
 "cells": [
  {
   "cell_type": "markdown",
   "metadata": {},
   "source": [
    "### P4.1 Symulacja ruchu kulek na siatce sprężynowej\n",
    "\n",
    "Rozważyć ruch kulek zamieszczonych na siatce sprężynowej (2D lub 3D).\n",
    "\n",
    "- Utworzyć animację kulek umieszczonych na siatce.\n",
    "- Rozważyć różne współczynniki oporu r\n",
    "- Rozważyć dodatkową siłę grawitacji\n",
    "- Rozważyć ramę siatki rozmiaru n x m"
   ]
  },
  {
   "cell_type": "markdown",
   "metadata": {},
   "source": [
    "$m_i x_i'' = \\sum_{j} \\vec{F}_{i,j} + \\vec{R}_{i}$\n",
    "\n",
    "gdzie\n",
    "\n",
    "$\\vec{F}_{i,j}=\\frac{(\\vec{x}_{j}-\\vec{x}_{i})}{d_{i,j}}\\cdot(d_{i,j}-l)\\cdot k$\n",
    "\n",
    "$\\vec{R}_{i}=-r\\cdot ||\\vec{x}_i'||^{\\alpha}_2 \\cdot \\frac{\\vec{x}_i'}{||\\vec{x}_i'||_2}$\n",
    "\n",
    "$d_{i,j} = ||\\vec{x}_i-\\vec{x}_j||_2$  –  odległość kulek\n",
    "\n",
    "$l$  –  długość sprężynek w spoczynku\n",
    "\n",
    "oraz $\\alpha$ = 2, 1"
   ]
  },
  {
   "cell_type": "code",
   "execution_count": 1,
   "metadata": {
    "collapsed": false
   },
   "outputs": [],
   "source": [
    "%matplotlib inline\n",
    "import sympy as sp\n",
    "import numpy as np\n",
    "import matplotlib.pyplot as plt\n",
    "import cv2\n",
    "import time\n",
    "\n",
    "def solve_vec(method, f, y0, rng, h):\n",
    "    (K, N, M, D) = y0.shape\n",
    "    t0, tn = rng\n",
    "    \n",
    "    t = np.arange(t0,tn,h)\n",
    "    y = np.zeros((len(t), K, N, M, D), np.float64)\n",
    "    y[0] = y0\n",
    "    \n",
    "    for ti in range(1, len(t)):\n",
    "        y[ti] = method(f, t[ti-1], y[ti-1], h)\n",
    "    return t, y\n",
    "\n",
    "def euler_method(f, t, y, h):\n",
    "    return y + h * f(t, y)\n",
    "\n",
    "def midpoint_method(f, t, y, h):\n",
    "    K1 = f(t, y)\n",
    "    K2 = f(t+h*0.5, y+(h*0.5*K1))\n",
    "    return y + h * K2\n",
    "\n",
    "def RK4_method(f, t, y, h):\n",
    "    K1 = f(t, y)\n",
    "    K2 = f(t+h*0.5, y+(h*0.5*K1))\n",
    "    K3 = f(t+h*0.5, y+(h*0.5*K2))\n",
    "    K4 = f(t+h, y+(h*K3))\n",
    "    return y + h*(K1/6+K2/3+K3/3+K4/6)"
   ]
  },
  {
   "cell_type": "code",
   "execution_count": 2,
   "metadata": {
    "collapsed": false
   },
   "outputs": [],
   "source": [
    "def getNeighbours(i,j,x):\n",
    "    neighbours = []\n",
    "    if i-1>=0:\n",
    "        neighbours.append(x[i-1,j])\n",
    "    if i+1<x.shape[0]:\n",
    "        neighbours.append(x[i+1,j])\n",
    "    if j-1>=0:\n",
    "        neighbours.append(x[i,j-1])\n",
    "    if j+1<x.shape[1]:\n",
    "        neighbours.append(x[i,j+1])\n",
    "    return neighbours\n",
    "    \n",
    "# sila F dla kulki (i,j)\n",
    "def F(i, j, x, k, l):\n",
    "    f = np.array([0,0], np.float64)\n",
    "    if(i<=0 or j<=0 or i>=x.shape[0]-1 or j>=x.shape[1]-1):\n",
    "        return f\n",
    "    \n",
    "    x_ij = x[i,j]\n",
    "    for x_n in getNeighbours(i,j,x):\n",
    "        d = np.linalg.norm(x_ij-x_n)\n",
    "        f += ((x_n - x_ij)/d)*(d-l)*k\n",
    "    return f\n",
    "\n",
    "# sila R dla kulki (i,j)\n",
    "def R(i, j, xp, r, alpha):\n",
    "    xp_ij = xp[i,j]\n",
    "    if(i<=0 or j<=0 or i>=xp.shape[0]-1 or j>=xp.shape[1]-1 or np.linalg.norm(xp_ij) == 0.):\n",
    "        return np.array([0, 0], np.float64)\n",
    "    \n",
    "    f = (-r) * (np.linalg.norm(xp_ij)**alpha) * (xp_ij/np.linalg.norm(xp_ij))\n",
    "    return f\n",
    "\n",
    "N = 11\n",
    "M = 21\n",
    "r = 0.5\n",
    "alpha = 1\n",
    "k = 30\n",
    "l = 0.2\n",
    "m = np.array([[1 for i in range(M+2)] for j in range(N+2)], np.float64)\n",
    "\n",
    "def f(t, y):\n",
    "    (_, N, M, _) = y.shape\n",
    "    values = np.zeros_like(y)\n",
    "    for i in range(N):\n",
    "        for j in range(M):\n",
    "            values[:,i,j] = np.array([y[1,i,j], ( F(i,j,y[0],k,l) + R(i,j,y[1],r,alpha) ) / m[i,j]])\n",
    "    return values\n",
    "\n",
    "x0 = np.array([ [ [l*j, l*i] for i in range(M+2) ] for j in range(N+2) ], np.float64)\n",
    "xd0 = np.zeros_like(x0)\n",
    "x0[N/2+1, M/2+1] += np.array([0.19,0.19])\n",
    "\n",
    "y0 = np.array([x0, xd0])\n",
    "\n",
    "rng = (0,10)\n",
    "h = 1/30."
   ]
  },
  {
   "cell_type": "code",
   "execution_count": 3,
   "metadata": {
    "collapsed": false
   },
   "outputs": [],
   "source": [
    "def render_balls(pos, r, l, shape):\n",
    "    img = np.ones(shape)*[32,40,48]\n",
    "    (N, M, two) = pos.shape\n",
    "    for i in range(1,N-1):\n",
    "        for j in range(1,M-1):\n",
    "            center = (int(pos[i,j,0]), int(pos[i,j,1]))\n",
    "            neighbours = getNeighbours(i,j,pos)\n",
    "            for pos_n in neighbours:\n",
    "                # color in order to tension\n",
    "                tension = (l-abs(np.linalg.norm(np.array(center)-np.array(pos_n))))*(255./l)\n",
    "                color = [\n",
    "                    128+np.clip(-tension,-127,127),\n",
    "                    128+np.clip(-tension,-127,127),\n",
    "                    128+np.clip(tension,-127,127)\n",
    "                ]\n",
    "                cv2.line(img, center, (int(pos_n[0]), int(pos_n[1])), color, 2)\n",
    "    \n",
    "    for i in range(1,N-1):\n",
    "        for j in range(1,M-1):\n",
    "            center = (int(pos[i,j,0]), int(pos[i,j,1]))\n",
    "            cv2.circle(img, center, int(r[i,j]), [82,16,213], -1)\n",
    "            cv2.circle(img, (center[0]+int(r[i,j]/3),center[1]-int(r[i,j]/3)), int(r[i,j])/3, [235,240,245], -1)\n",
    "    return img\n",
    "\n",
    "def balls_animation(t, x, m, l, max_size, pre=''):\n",
    "    (_, N, M, _) = x.shape\n",
    "    \n",
    "    end_pos_n, end_pos_m = x[0,-1,-1,0], x[0,-1,-1,1]\n",
    "    if end_pos_m > end_pos_n:\n",
    "        frame_size = (int((end_pos_n/end_pos_m)*max_size), max_size)\n",
    "        scale = max_size/end_pos_m\n",
    "    else:\n",
    "        frame_size = (max_size, int((end_pos_m/end_pos_n)*max_size))\n",
    "        scale = max_size/end_pos_n\n",
    "    \n",
    "    shape = (frame_size[1], frame_size[0], 3)\n",
    "    video = cv2.VideoWriter(\n",
    "        'output/v_'+pre+'_'+str(time.time())+'.avi',\n",
    "        cv2.VideoWriter_fourcc(*'MJPG'),\n",
    "        len(t)//t[-1],frame_size)\n",
    "    \n",
    "    max_radius = 6\n",
    "    r = m/np.max(m)\n",
    "    r = (r**0.5)*max_radius\n",
    "    for i in range(len(t)):\n",
    "        frame = render_balls(x[i]*scale, r, l*scale, shape)\n",
    "        video.write(frame.astype(np.uint8))\n",
    "        \n",
    "    video.release()"
   ]
  },
  {
   "cell_type": "code",
   "execution_count": 4,
   "metadata": {
    "collapsed": false
   },
   "outputs": [],
   "source": [
    "t, y = solve_vec(midpoint_method, f, y0, rng, h)\n",
    "balls_animation(t, y[:,0], m, l, 1200, 'midpoint')"
   ]
  },
  {
   "cell_type": "code",
   "execution_count": 5,
   "metadata": {
    "collapsed": false
   },
   "outputs": [],
   "source": [
    "t, y = solve_vec(RK4_method, f, y0, rng, h)\n",
    "balls_animation(t, y[:,0], m, l, 1200, 'RK4')"
   ]
  }
 ],
 "metadata": {
  "anaconda-cloud": {},
  "kernelspec": {
   "display_name": "Python [conda root]",
   "language": "python",
   "name": "conda-root-py"
  },
  "language_info": {
   "codemirror_mode": {
    "name": "ipython",
    "version": 2
   },
   "file_extension": ".py",
   "mimetype": "text/x-python",
   "name": "python",
   "nbconvert_exporter": "python",
   "pygments_lexer": "ipython2",
   "version": "2.7.12"
  }
 },
 "nbformat": 4,
 "nbformat_minor": 1
}
