{
 "cells": [
  {
   "cell_type": "code",
   "execution_count": 1,
   "metadata": {
    "collapsed": true
   },
   "outputs": [],
   "source": [
    "%matplotlib inline\n",
    "import numpy as np\n",
    "import matplotlib.pyplot as plt\n",
    "import cv2\n",
    "import time\n",
    "from matplotlib.backends.backend_agg import FigureCanvasAgg as FigureCanvas\n",
    "from mpl_toolkits.mplot3d import Axes3D\n",
    "from IPython.display import HTML\n",
    "import os\n",
    "\n",
    "def solve_vec(method, f, y0, rng, h):\n",
    "    t0, tn = rng\n",
    "    t = np.arange(t0,tn,h)\n",
    "    y = np.zeros((len(t), )+y0.shape, np.float64)\n",
    "    y[0] = y0\n",
    "    \n",
    "    for ti in range(1, len(t)):\n",
    "        y[ti] = method(f, t[ti-1], y[ti-1], h)\n",
    "    return t, y\n",
    "\n",
    "def euler_method(f, t, y, h):\n",
    "    return y + h * f(t, y)\n",
    "\n",
    "def midpoint_method(f, t, y, h):\n",
    "    K1 = f(t, y)\n",
    "    K2 = f(t+h*0.5, y+(h*0.5*K1))\n",
    "    return y + h * K2\n",
    "\n",
    "def RK4_method(f, t, y, h):\n",
    "    K1 = f(t, y)\n",
    "    K2 = f(t+h*0.5, y+(h*0.5*K1))\n",
    "    K3 = f(t+h*0.5, y+(h*0.5*K2))\n",
    "    K4 = f(t+h, y+(h*K3))\n",
    "    return y + h*(K1/6+K2/3+K3/3+K4/6)"
   ]
  },
  {
   "cell_type": "code",
   "execution_count": 2,
   "metadata": {
    "collapsed": false
   },
   "outputs": [],
   "source": [
    "def render_frame(y, l, shape):\n",
    "    theta = y[0]\n",
    "    delta = y[1]\n",
    "    img = np.ones(shape)*[32,40,48]\n",
    "    \n",
    "    pos = (shape[0]//2+int(l*np.sin(theta)), shape[0]//2+int(l*np.cos(theta)))\n",
    "    scale = 0.1\n",
    "    velocity = (int(scale*l*delta*np.sin(theta+np.pi/2)),int(scale*l*delta*np.cos(theta+np.pi/2)))\n",
    "    \n",
    "    r = 12\n",
    "    # spring\n",
    "    cv2.line(img, (shape[0]//2,shape[0]//2), pos, [64,64,64], 2)\n",
    "    # velocity\n",
    "    cv2.line(img, pos, (pos[0]+velocity[0],pos[1]+velocity[1]), [64,64,64], 2)\n",
    "    cv2.circle(img, pos, r, [82,16,213], -1)\n",
    "    cv2.circle(img, (pos[0]+r//3,pos[1]-r//3), r//3, [235,240,245], -1)\n",
    "    return img\n",
    "\n",
    "def balls_animation(t, y, size, pre=''):\n",
    "    path = 'output/'+pre+'_'+str(time.time())+'.avi'\n",
    "    video = cv2.VideoWriter(\n",
    "        path,\n",
    "        cv2.VideoWriter_fourcc(*'MJPG'),\n",
    "        len(t)//t[-1], (size,size))\n",
    "    for i in range(len(t)):\n",
    "        frame = render_frame(y[i], size/3, (size,size,3))\n",
    "        video.write(frame.astype(np.uint8))\n",
    "    video.release()\n",
    "    \n",
    "    path_mp4 = path[:-4]+'.mp4'\n",
    "    os.popen(\"ffmpeg -i '{input}' -ac 2 -b:v 2000k -c:a aac -c:v libx264 -b:a 160k -vprofile high -bf 0 -strict experimental -f mp4 '{path_mp4}'\".format(input = path, path_mp4=path_mp4))\n",
    "    os.remove(path)\n",
    "    return path_mp4"
   ]
  },
  {
   "cell_type": "markdown",
   "metadata": {},
   "source": [
    "## Zadanie 1\n",
    "\n",
    "- Rozważyć ruch wahadła matematycznego\n",
    "- Przedstawić animację ruchu \"kulki\"; \n",
    "    - rozważyć różne długości wahadła\n",
    "    - różne masy kulek\n",
    "    - różne wartości przyspieszenia ziemskiego $g$\n",
    "- Narysować portrety fazowe, tj. możliwe stany układu czyli wartości kąta nachylenia $\\theta$ i prędkości kątowej $\\theta'$.\n",
    "\n",
    "Wskazówka: chodzi o krzywe parametryczne $(\\theta(t), \\theta'(t))$.\n",
    "\n",
    "\n",
    "$(1) \\hspace{10mm} \\theta'' + \\frac{g}{L}sin\\theta = 0$"
   ]
  },
  {
   "cell_type": "code",
   "execution_count": 3,
   "metadata": {
    "collapsed": false
   },
   "outputs": [
    {
     "data": {
      "text/html": [
       "<video width=\"800\" height=\"800\" controls><source src=\"output/t1_1492002069.12.mp4\" type=\"video/mp4\"></video>"
      ],
      "text/plain": [
       "<IPython.core.display.HTML object>"
      ]
     },
     "execution_count": 3,
     "metadata": {},
     "output_type": "execute_result"
    }
   ],
   "source": [
    "g = 9.80665\n",
    "L = 1\n",
    "def f(t, y):\n",
    "    return np.array([y[1], -(g/L)*np.sin(y[0])])\n",
    "\n",
    "# Initial state\n",
    "y0 = np.array([3.14, 2], np.float64)\n",
    "\n",
    "rng = (0,20)\n",
    "h = 1/30.\n",
    "\n",
    "t, y = solve_vec(RK4_method, f, y0, rng, h)\n",
    "path = balls_animation(t, y, 800, pre='t1')\n",
    "\n",
    "HTML('<video width=\"800\" height=\"800\" controls><source src=\"'+path+'\" type=\"video/mp4\"></video>')"
   ]
  },
  {
   "cell_type": "markdown",
   "metadata": {},
   "source": [
    "## Zadanie 2\n",
    "\n",
    "- Rozważyć uproszczoną - zlinearyzowaną - postać równania ruchu. Znaleźć rozwiązanie ogólne i rozwiązać zagadnienie początkowe $\\theta(0) = \\theta_0,  \\theta'(0) = 0$\n",
    "- Narysować portrety fazowe, tj. możliwe stany układu czyli wartości kąta nachylenia $\\theta$ i prędkości kątowej $\\theta'$. \n",
    "\n",
    "\n",
    "$(1) \\hspace{10mm} \\theta'' + \\frac{g}{L}\\theta = 0$"
   ]
  },
  {
   "cell_type": "code",
   "execution_count": 4,
   "metadata": {
    "collapsed": false
   },
   "outputs": [
    {
     "data": {
      "text/html": [
       "<video width=\"800\" height=\"800\" controls><source src=\"output/t2_1492002076.25.mp4\" type=\"video/mp4\"></video>"
      ],
      "text/plain": [
       "<IPython.core.display.HTML object>"
      ]
     },
     "execution_count": 4,
     "metadata": {},
     "output_type": "execute_result"
    }
   ],
   "source": [
    "g = 9.80665\n",
    "L = 1\n",
    "def f(t, y):\n",
    "    return np.array([y[1], -(g/L)*y[0]])\n",
    "\n",
    "# Initial state\n",
    "y0 = np.array([3.14, 15], np.float64)\n",
    "\n",
    "rng = (0,20)\n",
    "h = 1/30.\n",
    "\n",
    "t, y = solve_vec(RK4_method, f, y0, rng, h)\n",
    "path = balls_animation(t, y, 800, pre='t2')\n",
    "\n",
    "HTML('<video width=\"800\" height=\"800\" controls><source src=\"'+path+'\" type=\"video/mp4\"></video>')"
   ]
  },
  {
   "cell_type": "markdown",
   "metadata": {},
   "source": [
    "## Zadania 3\n",
    "\n",
    "- Rozważyć model z oporem powietrza.\n",
    "- Przygotować animację ruchu kulki w różnych środowiskach."
   ]
  },
  {
   "cell_type": "code",
   "execution_count": 5,
   "metadata": {
    "collapsed": false
   },
   "outputs": [
    {
     "data": {
      "text/html": [
       "<video width=\"800\" height=\"800\" controls><source src=\"output/t3_1492002083.63.mp4\" type=\"video/mp4\"></video>"
      ],
      "text/plain": [
       "<IPython.core.display.HTML object>"
      ]
     },
     "execution_count": 5,
     "metadata": {},
     "output_type": "execute_result"
    }
   ],
   "source": [
    "g = 9.80665\n",
    "L = 1\n",
    "r = 0.1\n",
    "alpha = 1\n",
    "def f(t, y):\n",
    "    return np.array([y[1], -(g/L)*np.sin(y[0]) - r*(y[1]*L)**alpha])\n",
    "\n",
    "# Initial state\n",
    "y0 = np.array([3.14, 3], np.float64)\n",
    "\n",
    "rng = (0,20)\n",
    "h = 1/30.\n",
    "\n",
    "t, y = solve_vec(RK4_method, f, y0, rng, h)\n",
    "path = balls_animation(t, y, 800, pre='t3')\n",
    "\n",
    "HTML('<video width=\"800\" height=\"800\" controls><source src=\"'+path+'\" type=\"video/mp4\"></video>')"
   ]
  }
 ],
 "metadata": {
  "anaconda-cloud": {},
  "kernelspec": {
   "display_name": "Python [conda root]",
   "language": "python",
   "name": "conda-root-py"
  },
  "language_info": {
   "codemirror_mode": {
    "name": "ipython",
    "version": 2
   },
   "file_extension": ".py",
   "mimetype": "text/x-python",
   "name": "python",
   "nbconvert_exporter": "python",
   "pygments_lexer": "ipython2",
   "version": "2.7.12"
  }
 },
 "nbformat": 4,
 "nbformat_minor": 1
}
