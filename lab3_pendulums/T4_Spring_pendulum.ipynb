{
 "cells": [
  {
   "cell_type": "code",
   "execution_count": 1,
   "metadata": {
    "collapsed": true
   },
   "outputs": [],
   "source": [
    "%matplotlib inline\n",
    "import numpy as np\n",
    "import matplotlib.pyplot as plt\n",
    "import cv2\n",
    "import time\n",
    "from matplotlib.backends.backend_agg import FigureCanvasAgg as FigureCanvas\n",
    "from mpl_toolkits.mplot3d import Axes3D\n",
    "from IPython.display import HTML\n",
    "import os\n",
    "\n",
    "def solve_vec(method, f, y0, rng, h):\n",
    "    t0, tn = rng\n",
    "    t = np.arange(t0,tn,h)\n",
    "    y = np.zeros((len(t),)+y0.shape, np.float64)\n",
    "    y[0] = y0\n",
    "    \n",
    "    for ti in range(1, len(t)):\n",
    "        y[ti] = method(f, t[ti-1], y[ti-1], h)\n",
    "    return t, y\n",
    "\n",
    "def euler_method(f, t, y, h):\n",
    "    return y + h * f(t, y)\n",
    "\n",
    "def midpoint_method(f, t, y, h):\n",
    "    K1 = f(t, y)\n",
    "    K2 = f(t+h*0.5, y+(h*0.5*K1))\n",
    "    return y + h * K2\n",
    "\n",
    "def RK4_method(f, t, y, h):\n",
    "    K1 = f(t, y)\n",
    "    K2 = f(t+h*0.5, y+(h*0.5*K1))\n",
    "    K3 = f(t+h*0.5, y+(h*0.5*K2))\n",
    "    K4 = f(t+h, y+(h*K3))\n",
    "    return y + h*(K1/6+K2/3+K3/3+K4/6)"
   ]
  },
  {
   "cell_type": "code",
   "execution_count": 2,
   "metadata": {
    "collapsed": true
   },
   "outputs": [],
   "source": [
    "def render_frame(y, l, scale, shape):\n",
    "    theta = y[0]\n",
    "    r = y[1]\n",
    "    img = np.ones(shape)*[32,40,48]\n",
    "    \n",
    "    pos = (shape[0]//2+int(scale*(l+r)*np.sin(theta)), shape[0]//2+int(scale*(l+r)*np.cos(theta)))\n",
    "    radius = 12\n",
    "    cv2.line(img, (shape[0]//2,shape[0]//2), pos, [64,64,64], 2)\n",
    "    cv2.circle(img, pos, radius, [82,16,213], -1)\n",
    "    cv2.circle(img, (pos[0]+radius//3,pos[1]-radius//3), radius//3, [235,240,245], -1)\n",
    "    return img\n",
    "\n",
    "def balls_animation(t, y, l, size, pre=''):\n",
    "    path = 'output/'+pre+'_'+str(time.time())+'.avi'\n",
    "    video = cv2.VideoWriter(\n",
    "        path,\n",
    "        cv2.VideoWriter_fourcc(*'MJPG'),\n",
    "        len(t)//t[-1], (size,size))\n",
    "    for i in range(len(t)):\n",
    "        frame = render_frame(y[i], l, size/4, (size,size,3))\n",
    "        video.write(frame.astype(np.uint8))\n",
    "    video.release()\n",
    "    \n",
    "    path_mp4 = path[:-4]+'.mp4'\n",
    "    os.popen(\"ffmpeg -i '{input}' -ac 2 -b:v 2000k -c:a aac -c:v libx264 -b:a 160k -vprofile high -bf 0 -strict experimental -f mp4 '{path_mp4}'\".format(input = path, path_mp4=path_mp4))\n",
    "    os.remove(path)\n",
    "    return path_mp4"
   ]
  },
  {
   "cell_type": "markdown",
   "metadata": {},
   "source": [
    "## Zadanie 4. Sprężyste wahadło.\n",
    "\n",
    "- Rozważyć model z rozciągliwą nicią.\n",
    "- Zasymulować ruch wahadła sprężystego.\n",
    "\n",
    "$ \\theta'' = -\\frac{g \\cdot sin\\theta + 2 r'\\theta'}{L+r} $\n",
    "\n",
    "$ r'' = g \\cdot cos\\theta +(L+r)\\theta'^2 - \\frac{k}{m}r $"
   ]
  },
  {
   "cell_type": "code",
   "execution_count": 3,
   "metadata": {
    "collapsed": false
   },
   "outputs": [
    {
     "data": {
      "text/html": [
       "<video width=\"800\" height=\"800\" controls><source src=\"output/t4_1491912750.96.mp4\" type=\"video/mp4\"></video>"
      ],
      "text/plain": [
       "<IPython.core.display.HTML object>"
      ]
     },
     "execution_count": 3,
     "metadata": {},
     "output_type": "execute_result"
    }
   ],
   "source": [
    "g = 9.80665\n",
    "L = 1\n",
    "k = 50\n",
    "m = 1\n",
    "def f(t, y):\n",
    "    theta = y[0]\n",
    "    r = y[1]\n",
    "    return np.array([\n",
    "            [theta[1], -(g*np.sin(theta[0])+2*theta[1]*r[1])/(L+r[0])],\n",
    "            [r[1], g*np.cos(theta[0]) + (L+r[0])*theta[1]**2 - (k*r[0])/m]\n",
    "        ])\n",
    "\n",
    "# Initial state\n",
    "y0 = np.array([[3.14, 0], [0,0]], np.float64)\n",
    "\n",
    "rng = (0,40)\n",
    "h = 1/30.\n",
    "\n",
    "t, y = solve_vec(RK4_method, f, y0, rng, h)\n",
    "path = balls_animation(t, y[:,:,0], L, 800, pre='t4')\n",
    "\n",
    "HTML('<video width=\"800\" height=\"800\" controls><source src=\"'+path+'\" type=\"video/mp4\"></video>')"
   ]
  }
 ],
 "metadata": {
  "anaconda-cloud": {},
  "kernelspec": {
   "display_name": "Python [conda root]",
   "language": "python",
   "name": "conda-root-py"
  },
  "language_info": {
   "codemirror_mode": {
    "name": "ipython",
    "version": 2
   },
   "file_extension": ".py",
   "mimetype": "text/x-python",
   "name": "python",
   "nbconvert_exporter": "python",
   "pygments_lexer": "ipython2",
   "version": "2.7.12"
  }
 },
 "nbformat": 4,
 "nbformat_minor": 1
}
