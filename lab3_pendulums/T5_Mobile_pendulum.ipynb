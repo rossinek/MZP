{
 "cells": [
  {
   "cell_type": "code",
   "execution_count": 1,
   "metadata": {
    "collapsed": true
   },
   "outputs": [],
   "source": [
    "%matplotlib inline\n",
    "import numpy as np\n",
    "import matplotlib.pyplot as plt\n",
    "import cv2\n",
    "import time\n",
    "from IPython.display import HTML\n",
    "import os\n",
    "\n",
    "def solve_vec(method, f, y0, rng, h):\n",
    "    t0, tn = rng\n",
    "    t = np.arange(t0,tn,h)\n",
    "    y = np.zeros((len(t),)+y0.shape, np.float64)\n",
    "    y[0] = y0\n",
    "    \n",
    "    for ti in range(1, len(t)):\n",
    "        y[ti] = method(f, t[ti-1], y[ti-1], h)\n",
    "    return t, y\n",
    "\n",
    "def euler_method(f, t, y, h):\n",
    "    return y + h * f(t, y)\n",
    "\n",
    "def midpoint_method(f, t, y, h):\n",
    "    K1 = f(t, y)\n",
    "    K2 = f(t+h*0.5, y+(h*0.5*K1))\n",
    "    return y + h * K2\n",
    "\n",
    "def RK4_method(f, t, y, h):\n",
    "    K1 = f(t, y)\n",
    "    K2 = f(t+h*0.5, y+(h*0.5*K1))\n",
    "    K3 = f(t+h*0.5, y+(h*0.5*K2))\n",
    "    K4 = f(t+h, y+(h*K3))\n",
    "    return y + h*(K1/6+K2/3+K3/3+K4/6)"
   ]
  },
  {
   "cell_type": "code",
   "execution_count": 2,
   "metadata": {
    "collapsed": false
   },
   "outputs": [],
   "source": [
    "def render_frame(y, yprev, l, scale, canvas):\n",
    "    theta = y[0,0]\n",
    "    x = y[1,0]\n",
    "    \n",
    "    shape = canvas.shape\n",
    "    pos_x = (shape[0]//2+int(scale*x), shape[0]//2)\n",
    "    pos_p = (pos_x[0]+int(scale*l*np.sin(theta)), pos_x[1]+int(scale*l*np.cos(theta)))\n",
    "\n",
    "    pos_p_prev = (int(shape[0]/2+scale*yprev[1,0]+scale*l*np.sin(yprev[0,0])), int(shape[0]/2+scale*l*np.cos(yprev[0,0])))\n",
    "    cv2.line(canvas, pos_p, pos_p_prev, [0,128,128], 1)\n",
    "    img = canvas.copy()\n",
    "\n",
    "    cv2.rectangle(img, (pos_x[0]-8,pos_x[1]-3), (pos_x[0]+8,pos_x[1]+3), [235,240,245], -1)\n",
    "\n",
    "    radius = 12\n",
    "    cv2.line(img, pos_x, pos_p, [64,64,64], 2)    \n",
    "    cv2.circle(img, pos_p, radius, [82,16,213], -1)\n",
    "    cv2.circle(img, (pos_p[0]+radius//3,pos_p[1]-radius//3), radius//3, [235,240,245], -1)\n",
    "    return img\n",
    "\n",
    "def balls_animation(t, y, l, size, pre=''):\n",
    "    path = 'output/'+pre+'_'+str(time.time())+'.avi'\n",
    "    if(int(cv2.__version__.split('.')[0]) < 3):\n",
    "        fourcc = cv2.cv.CV_FOURCC(*'MJPG')\n",
    "    else:\n",
    "        fourcc = cv2.VideoWriter_fourcc(*'MJPG')\n",
    "    video = cv2.VideoWriter(path, fourcc, len(t)//t[-1], (size,size))\n",
    "    canvas = np.ones((size,size,3))*[32,40,48]\n",
    "    for i in range(len(t)):\n",
    "        ycurr = y[i]\n",
    "        if(i>0):\n",
    "            yprev = y[i-1]\n",
    "        else:\n",
    "            yprev = ycurr\n",
    "        frame = render_frame(ycurr, yprev, l, size/4, canvas)\n",
    "        video.write(frame.astype(np.uint8))\n",
    "    video.release()\n",
    "    \n",
    "    path_mp4 = path[:-4]+'.mp4'\n",
    "    os.popen(\"ffmpeg -i '{input}' -ac 2 -b:v 2000k -c:a aac -c:v libx264 -b:a 160k -vprofile high -bf 0 -strict experimental -f mp4 '{path_mp4}'\".format(input = path, path_mp4=path_mp4))\n",
    "    os.remove(path)\n",
    "    return path_mp4"
   ]
  },
  {
   "cell_type": "markdown",
   "metadata": {},
   "source": [
    "## Zadanie 5. Wahadło zawieszone na ruchomym bloczku\n",
    "\n",
    "$ \\theta'' = \\frac{sin\\theta (cos\\theta m_2L\\theta'^2 + gm_1+gm_2)}{L(m_2cos^2\\theta-m_1-m_2)} $\n",
    "\n",
    "$ x'' = \\frac{m_2sin\\theta (L\\theta'^2+cos\\theta g)}{m_2cos^2\\theta-m_1-m_2} $"
   ]
  },
  {
   "cell_type": "code",
   "execution_count": 3,
   "metadata": {
    "collapsed": false
   },
   "outputs": [
    {
     "data": {
      "text/html": [
       "<video width=\"800\" height=\"800\" controls><source src=\"output/t5_1492717276.3.mp4\" type=\"video/mp4\"></video>"
      ],
      "text/plain": [
       "<IPython.core.display.HTML object>"
      ]
     },
     "execution_count": 3,
     "metadata": {},
     "output_type": "execute_result"
    }
   ],
   "source": [
    "g = 9.80665\n",
    "L = 1\n",
    "k = 50\n",
    "m1 = 1\n",
    "m2 = 1\n",
    "\n",
    "r = 0.5\n",
    "alpha = 1\n",
    "def f(t, y):\n",
    "    theta = y[0]\n",
    "    x = y[1]\n",
    "    return np.array([\n",
    "            [theta[1], (np.sin(theta[0])*(np.cos(theta[0])*m2*L*theta[1]**2+g*m1+g*m2))/(L*(m2*np.cos(theta[0])**2-m1-m2)) -r*(theta[1]*L)**alpha],\n",
    "            [x[1], (m2*np.sin(theta[0])*(L*theta[1]**2+np.cos(theta[0])*g))/(m2*np.cos(theta[0])**2-m1-m2) -r*x[1]**alpha]\n",
    "        ])\n",
    "\n",
    "# Initial state\n",
    "y0 = np.array([[3.14, 0], [0,0]], np.float64)\n",
    "\n",
    "rng = (0,10)\n",
    "h = 1/30.\n",
    "\n",
    "t, y = solve_vec(RK4_method, f, y0, rng, h)\n",
    "path = balls_animation(t, y, L, 800, pre='t5')\n",
    "\n",
    "HTML('<video width=\"800\" height=\"800\" controls><source src=\"'+path+'\" type=\"video/mp4\"></video>')"
   ]
  }
 ],
 "metadata": {
  "anaconda-cloud": {},
  "kernelspec": {
   "display_name": "Python [conda root]",
   "language": "python",
   "name": "conda-root-py"
  },
  "language_info": {
   "codemirror_mode": {
    "name": "ipython",
    "version": 2
   },
   "file_extension": ".py",
   "mimetype": "text/x-python",
   "name": "python",
   "nbconvert_exporter": "python",
   "pygments_lexer": "ipython2",
   "version": "2.7.12"
  }
 },
 "nbformat": 4,
 "nbformat_minor": 1
}
