{
 "cells": [
  {
   "cell_type": "code",
   "execution_count": null,
   "metadata": {
    "collapsed": true
   },
   "outputs": [],
   "source": [
    "%matplotlib inline\n",
    "import numpy as np\n",
    "import matplotlib.pyplot as plt\n",
    "import cv2\n",
    "import time\n",
    "from matplotlib.backends.backend_agg import FigureCanvasAgg as FigureCanvas\n",
    "from mpl_toolkits.mplot3d import Axes3D\n",
    "from IPython.display import HTML\n",
    "import os\n",
    "\n",
    "def solve_vec(method, f, y0, rng, h):\n",
    "    t0, tn = rng\n",
    "    t = np.arange(t0,tn,h)\n",
    "    y = np.zeros((len(t), )+y0.shape, np.float64)\n",
    "    y[0] = y0\n",
    "    \n",
    "    for ti in range(1, len(t)):\n",
    "        y[ti] = method(f, t[ti-1], y[ti-1], h)\n",
    "    return t, y\n",
    "\n",
    "def euler_method(f, t, y, h):\n",
    "    return y + h * f(t, y)\n",
    "\n",
    "def midpoint_method(f, t, y, h):\n",
    "    K1 = f(t, y)\n",
    "    K2 = f(t+h*0.5, y+(h*0.5*K1))\n",
    "    return y + h * K2\n",
    "\n",
    "def RK4_method(f, t, y, h):\n",
    "    K1 = f(t, y)\n",
    "    K2 = f(t+h*0.5, y+(h*0.5*K1))\n",
    "    K3 = f(t+h*0.5, y+(h*0.5*K2))\n",
    "    K4 = f(t+h, y+(h*K3))\n",
    "    return y + h*(K1/6+K2/3+K3/3+K4/6)"
   ]
  },
  {
   "cell_type": "code",
   "execution_count": null,
   "metadata": {
    "collapsed": true
   },
   "outputs": [],
   "source": [
    "def render_frame(y, y_prev, l, canvas):\n",
    "    shape = canvas.shape\n",
    "    pos_last = (shape[0]//2, shape[0]//2)\n",
    "    pos_prev_last = pos_last\n",
    "    canvas[:] = canvas*[0.99,0.99,0.99]\n",
    "    for i in range(len(y)):\n",
    "        theta = y[i, 0]\n",
    "        theta_prev = y_prev[i, 0]\n",
    "        pos = (pos_last[0]+int(l[i]*np.sin(theta)), pos_last[1]+int(l[i]*np.cos(theta)))\n",
    "        pos_prev = (pos_prev_last[0]+int(l[i]*np.sin(theta_prev)), pos_prev_last[1]+int(l[i]*np.cos(theta_prev)))\n",
    "        cv2.line(canvas, pos_prev, pos, [int(180-180*(float(i)/len(y))),64,int(180*(float(i)/len(y)))], 2)\n",
    "        pos_last = pos\n",
    "        pos_prev_last = pos_prev\n",
    "    \n",
    "    img = canvas.copy()\n",
    "\n",
    "    # spring\n",
    "    pos_last = (shape[0]//2, shape[0]//2)\n",
    "    for i in range(len(y)):\n",
    "        theta = y[i, 0]\n",
    "        pos = (pos_last[0]+int(l[i]*np.sin(theta)), pos_last[1]+int(l[i]*np.cos(theta)))\n",
    "        cv2.line(img, pos_last, pos, [64,64,64], 2)        \n",
    "        pos_last = pos\n",
    "\n",
    "    pos_last = (shape[0]//2, shape[0]//2)\n",
    "    for i in range(len(y)):\n",
    "        theta = y[i, 0]\n",
    "        pos = (pos_last[0]+int(l[i]*np.sin(theta)), pos_last[1]+int(l[i]*np.cos(theta)))    \n",
    "        r = 12\n",
    "        cv2.circle(img, pos, r, [int(255-255*(float(i)/len(y))),32,int(255*(float(i)/len(y)))], -1)\n",
    "        cv2.circle(img, (pos[0]+r//3,pos[1]-r//3), r//3, [235,240,245], -1)\n",
    "        pos_last = pos\n",
    "        \n",
    "    return img\n",
    "\n",
    "def balls_animation(t, y, l, size, pre=''):\n",
    "    path = 'output/'+pre+'_'+str(time.time())+'.avi'\n",
    "    if(int(cv2.__version__.split('.')[0]) < 3):\n",
    "        fourcc = cv2.cv.CV_FOURCC(*'MJPG')\n",
    "    else:\n",
    "        fourcc = cv2.VideoWriter_fourcc(*'MJPG')\n",
    "    video = cv2.VideoWriter(path, fourcc, len(t)//t[-1], (size,size))\n",
    "    \n",
    "    canvas = np.zeros((size,size,3))\n",
    "    \n",
    "    l_scaled = l * ((0.4 * size)/np.sum(l))\n",
    "    for i in range(len(t)):\n",
    "        if i>0:\n",
    "            y_prev = y[i-1]\n",
    "        else:\n",
    "            y_prev = y[i]\n",
    "        frame = render_frame(y[i], y_prev, l_scaled, canvas)\n",
    "        video.write(frame.astype(np.uint8))\n",
    "    video.release()\n",
    "    \n",
    "    path_mp4 = path[:-4]+'.mp4'\n",
    "    os.popen(\"ffmpeg -i '{input}' -ac 2 -b:v 2000k -c:a aac -c:v libx264 -b:a 160k -vprofile high -bf 0 -strict experimental -f mp4 '{path_mp4}'\".format(input = path, path_mp4=path_mp4))\n",
    "    os.remove(path)\n",
    "    return path_mp4"
   ]
  },
  {
   "cell_type": "code",
   "execution_count": null,
   "metadata": {
    "collapsed": false
   },
   "outputs": [],
   "source": [
    "from sympy import diff, symbols, cos, sin, Derivative, solve, Symbol\n",
    "\n",
    "def euler_lagrange(lagrangian, t, x_dx_ddx):\n",
    "    equations = []\n",
    "    for syms in x_dx_ddx:\n",
    "        x,dx,ddx = syms\n",
    "        dlag_x = diff(lagrangian, x)\n",
    "        dlag_dx = diff(lagrangian, dx)\n",
    "        for syms2 in x_dx_ddx:\n",
    "            x2,dx2,ddx2 = syms2\n",
    "            dlag_dx = dlag_dx.subs([(dx2, Derivative(x2(t), t)), (x2, x2(t))])\n",
    "        dlag_dx_t = diff(dlag_dx, t)\n",
    "        for syms2 in x_dx_ddx:\n",
    "            x2,dx2,ddx2 = syms2\n",
    "            dlag_dx_t = dlag_dx_t.subs([\n",
    "                    (Derivative(x2(t), t, t), ddx2),\n",
    "                    (Derivative(x2(t), t), dx2),\n",
    "                    (x2(t), x2)])\n",
    "        equations.append(dlag_dx_t-dlag_x)\n",
    "    return equations"
   ]
  },
  {
   "cell_type": "code",
   "execution_count": null,
   "metadata": {
    "collapsed": false
   },
   "outputs": [],
   "source": [
    "N = 3\n",
    "t = symbols('t')\n",
    "syms = [ symbols('th[%d] dth[%d] ddth[%d]'%(i,i,i)) for i in range(N) ]\n",
    "\n",
    "lag = 0\n",
    "h = 0\n",
    "velocity = [0, 0]\n",
    "for i in range(N):\n",
    "    th, dth, ddth = syms[i]\n",
    "    # E_potential\n",
    "    h += (Symbol('l[%d]'%(i,))-Symbol('l[%d]'%(i,))*cos(th))\n",
    "    lag -= Symbol('m[%d]'%(i,))*Symbol('g')*h\n",
    "    # E_kinetic\n",
    "    velocity[0] += Symbol('l[%d]'%(i,))*dth*sin(th+np.pi/2)\n",
    "    velocity[1] += Symbol('l[%d]'%(i,))*dth*cos(th+np.pi/2)\n",
    "    # lagrangian\n",
    "    lag += 0.5*Symbol('m[%d]'%(i,))*(velocity[0]**2+velocity[1]**2)\n",
    "    #lag += 0.5*m[i]*(dth*l[i])**2\n",
    "\n",
    "equations = euler_lagrange(lag,t,syms)\n",
    "ddxs = [ syms[i][2] for i in range(N) ]\n",
    "functions = solve(equations, ddxs)"
   ]
  },
  {
   "cell_type": "code",
   "execution_count": null,
   "metadata": {
    "collapsed": false
   },
   "outputs": [],
   "source": [
    "with open('functions%d.py'%(N,), 'w') as fd:\n",
    "    fd.write('from numpy import sin, cos, zeros_like\\n')\n",
    "    fd.write('def force(t, y):\\n')\n",
    "    fd.write('    values = zeros_like(y)\\n')\n",
    "    f = functions\n",
    "    for i in range(N):\n",
    "        th, dth, ddth = syms[i]\n",
    "        for j in range(N):\n",
    "            _, _, ddthj = syms[j]\n",
    "            f[ddthj] = f[ddthj].subs([(th,Symbol('y[%d,0]'%(i,))),(dth,Symbol('y[%d,1]'%(i,)))])\n",
    "    for i in range(N):\n",
    "        _, _, ddthi = syms[i]\n",
    "        fd.write('    values[%d,0] = y[%d,1]\\n'%(i,i))\n",
    "        fd.write('    values[%d,1] = '%(i,)+str(f[ddthi])+'\\n')\n",
    "    fd.write('    return values\\n')"
   ]
  },
  {
   "cell_type": "code",
   "execution_count": null,
   "metadata": {
    "collapsed": false
   },
   "outputs": [],
   "source": [
    "import os\n",
    "filelist = [ f for f in os.listdir(\".\") if f.endswith(\".pyc\") ]\n",
    "for f in filelist:\n",
    "    os.remove(f)\n",
    "\n",
    "from functions3 import force as f\n",
    "\n",
    "g = 9.80665\n",
    "#l = np.ones(N)\n",
    "l = np.array([1,1,2])\n",
    "m = np.ones(N)\n",
    "\n",
    "# Initial state\n",
    "y0 = np.array([ [1.57,0] for i in range(N) ], np.float64)\n",
    "\n",
    "rng = (0,30)\n",
    "h = 1/30.\n",
    "t, y = solve_vec(RK4_method, f, y0, rng, h)"
   ]
  },
  {
   "cell_type": "code",
   "execution_count": null,
   "metadata": {
    "collapsed": false,
    "scrolled": true
   },
   "outputs": [],
   "source": [
    "path = balls_animation(t, y, l, 800, pre='t6')\n",
    "\n",
    "HTML('<video width=\"800\" height=\"800\" controls><source src=\"'+path+'\" type=\"video/mp4\"></video>')"
   ]
  }
 ],
 "metadata": {
  "anaconda-cloud": {},
  "kernelspec": {
   "display_name": "Python [conda root]",
   "language": "python",
   "name": "conda-root-py"
  },
  "language_info": {
   "codemirror_mode": {
    "name": "ipython",
    "version": 2
   },
   "file_extension": ".py",
   "mimetype": "text/x-python",
   "name": "python",
   "nbconvert_exporter": "python",
   "pygments_lexer": "ipython2",
   "version": "2.7.12"
  }
 },
 "nbformat": 4,
 "nbformat_minor": 1
}
