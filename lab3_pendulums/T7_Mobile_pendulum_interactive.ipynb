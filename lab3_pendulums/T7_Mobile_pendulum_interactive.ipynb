{
 "cells": [
  {
   "cell_type": "code",
   "execution_count": 1,
   "metadata": {
    "collapsed": true
   },
   "outputs": [],
   "source": [
    "%matplotlib inline\n",
    "import numpy as np\n",
    "import matplotlib.pyplot as plt\n",
    "import cv2\n",
    "import time\n",
    "from matplotlib.backends.backend_agg import FigureCanvasAgg as FigureCanvas\n",
    "from mpl_toolkits.mplot3d import Axes3D\n",
    "from IPython.display import HTML\n",
    "import os\n",
    "\n",
    "def euler_method(f, t, y, h):\n",
    "    return y + h * f(t, y)\n",
    "\n",
    "def midpoint_method(f, t, y, h):\n",
    "    K1 = f(t, y)\n",
    "    K2 = f(t+h*0.5, y+(h*0.5*K1))\n",
    "    return y + h * K2\n",
    "\n",
    "def RK4_method(f, t, y, h):\n",
    "    K1 = f(t, y)\n",
    "    K2 = f(t+h*0.5, y+(h*0.5*K1))\n",
    "    K3 = f(t+h*0.5, y+(h*0.5*K2))\n",
    "    K4 = f(t+h, y+(h*K3))\n",
    "    return y + h*(K1/6+K2/3+K3/3+K4/6)"
   ]
  },
  {
   "cell_type": "code",
   "execution_count": 2,
   "metadata": {
    "collapsed": false
   },
   "outputs": [],
   "source": [
    "def mass_to_radius(m, min_r, max_r):\n",
    "    if(np.max(m) == np.min(m)):\n",
    "        r = np.ones_like(m)*max_r\n",
    "    else:\n",
    "        r = (m-np.min(m))*((max_r-min_r)/(np.max(m)-np.min(m)))+min_r\n",
    "    return r.astype(int)\n",
    "\n",
    "def y_to_pos(y,l,shape,pos_start):\n",
    "    pos = []\n",
    "    pos.append(pos_start)\n",
    "    for i in range(len(y)):\n",
    "        theta = y[i, 0]\n",
    "        pos.append((\n",
    "                pos[i][0]+int(l[i]*np.sin(theta)),\n",
    "                pos[i][1]+int(l[i]*np.cos(theta))\n",
    "            ))\n",
    "    return pos\n",
    "\n",
    "def render_frame(y, y_prev, l, r, canvas, meter_scale=1, trace_factor=0.99):\n",
    "    shape = canvas.shape\n",
    "    canvas[:] = canvas*[trace_factor,trace_factor,trace_factor]\n",
    "    y_b = y[1:]\n",
    "        \n",
    "    pos_block = (shape[0]//2+int(y[0,0]*meter_scale), shape[0]//2)\n",
    "    pos_block_prev = (shape[0]//2+int(y_prev[0,0]*meter_scale), shape[0]//2)\n",
    "    pos = y_to_pos(y_b, l, shape, pos_block)\n",
    "    pos_prev = y_to_pos(y_prev[1:], l, shape,pos_block_prev)\n",
    "        \n",
    "    # traces\n",
    "    for i in range(len(y_b)):\n",
    "        cv2.line(canvas, pos_prev[i+1], pos[i+1], [int(180-180*(float(i)/len(y_b))),64,int(180*(float(i)/len(y_b)))], 2)\n",
    "    img = canvas.copy()\n",
    "    \n",
    "    cv2.line(img, (shape[0]//2, shape[0]//2-12), (shape[0]//2, shape[0]//2+12), [0,0,128], 2)\n",
    "\n",
    "    cv2.rectangle(img, (pos_block[0]-12,pos_block[1]-6), (pos_block[0]+12,pos_block[1]+6), [235,240,245], -1)\n",
    "\n",
    "    # lines\n",
    "    for i in range(len(y_b)):\n",
    "        cv2.line(img, pos[i], pos[i+1], [64,64,64], 2)\n",
    "    # balls\n",
    "    for i in range(len(y_b)):\n",
    "        cv2.circle(img, pos[i+1], r[i], [int(255-255*(float(i)/len(y_b))),32,int(255*(float(i)/len(y_b)))], -1)\n",
    "        cv2.circle(img, (pos[i+1][0]+r[i]//3,pos[i+1][1]-r[i]//3), r[i]//3, [235,240,245], -1)\n",
    "        pos_last = pos\n",
    "    \n",
    "    return img\n",
    "\n",
    "def balls_animation(t, y, l, m, size, trace_factor, pre=''):\n",
    "    path = 'output/'+pre+'_'+str(time.time())+'.avi'\n",
    "    if(int(cv2.__version__.split('.')[0]) < 3):\n",
    "        fourcc = cv2.cv.CV_FOURCC(*'MJPG')\n",
    "    else:\n",
    "        fourcc = cv2.VideoWriter_fourcc(*'MJPG')\n",
    "    video = cv2.VideoWriter(path, fourcc, len(t)//t[-1], (size,size))\n",
    "    \n",
    "    canvas = np.zeros((size,size,3))\n",
    "    \n",
    "    meter_scale = ((0.4 * size)/np.sum(l))\n",
    "    l_scaled = l * meter_scale\n",
    "    m_scaled = mass_to_radius(m, 6, 12)\n",
    "    for i in range(len(t)):\n",
    "        if i>0:\n",
    "            y_prev = y[i-1]\n",
    "        else:\n",
    "            y_prev = y[i]\n",
    "        frame = render_frame(y[i], y_prev, l_scaled, m_scaled, canvas, meter_scale=meter_scale, trace_factor=trace_factor)\n",
    "        video.write(frame.astype(np.uint8))\n",
    "    video.release()\n",
    "    \n",
    "    path_mp4 = path[:-4]+'.mp4'\n",
    "    os.popen(\"ffmpeg -i '{input}' -ac 2 -b:v 2000k -c:a aac -c:v libx264 -b:a 160k -vprofile high -bf 0 -strict experimental -f mp4 '{path_mp4}'\".format(input = path, path_mp4=path_mp4))\n",
    "    os.remove(path)\n",
    "    return path_mp4"
   ]
  },
  {
   "cell_type": "code",
   "execution_count": 12,
   "metadata": {
    "collapsed": false
   },
   "outputs": [],
   "source": [
    "from sympy import diff, symbols, cos, sin, Derivative, solve, Symbol, expand\n",
    "\n",
    "def euler_lagrange(lagrangian, t, x_dx_ddx):\n",
    "    equations = []\n",
    "    for syms in x_dx_ddx:\n",
    "        x,dx,ddx = syms\n",
    "        dlag_x = diff(lagrangian, x)\n",
    "        dlag_dx = diff(lagrangian, dx)\n",
    "        for syms2 in x_dx_ddx:\n",
    "            x2,dx2,ddx2 = syms2\n",
    "            dlag_dx = dlag_dx.subs([(dx2, Derivative(x2(t), t)), (x2, x2(t))])\n",
    "        dlag_dx_t = diff(dlag_dx, t)\n",
    "        for syms2 in x_dx_ddx:\n",
    "            x2,dx2,ddx2 = syms2\n",
    "            dlag_dx_t = dlag_dx_t.subs([\n",
    "                    (Derivative(x2(t), t, t), ddx2),\n",
    "                    (Derivative(x2(t), t), dx2),\n",
    "                    (x2(t), x2)])\n",
    "        equations.append(dlag_dx_t-dlag_x)\n",
    "    return equations"
   ]
  },
  {
   "cell_type": "code",
   "execution_count": 17,
   "metadata": {
    "collapsed": false
   },
   "outputs": [
    {
     "name": "stdout",
     "output_type": "stream",
     "text": [
      "{ddx: m[0]*(dth[0]**2*l[0] + g*cos(th[0]))*sin(th[0])/(m[0]*sin(th[0])**2 + m_s), ddth[0]: -(dth[0]**2*l[0]*m[0]*cos(th[0]) + g*(m[0] + m_s))*sin(th[0])/(l[0]*(m[0]*sin(th[0])**2 + m_s))}\n"
     ]
    }
   ],
   "source": [
    "N = 1\n",
    "t = symbols('t')\n",
    "syms = [ symbols('x dx ddx') ]\n",
    "x, dx, ddx = syms[0]\n",
    "syms += [ symbols('th[%d] dth[%d] ddth[%d]'%(i,i,i)) for i in range(N) ]\n",
    "\n",
    "lagrangian = 0\n",
    "h = 0\n",
    "velocity = [dx, 0]\n",
    "# E_potential spring\n",
    "# lagrangian -= 0.5*Symbol('k')*x**2\n",
    "# E_kinetic spring\n",
    "lagrangian += 0.5*Symbol('m_s')*dx**2\n",
    "for i in range(N):\n",
    "    th, dth, ddth = syms[i+1]\n",
    "    # E_potential ball_i\n",
    "    h += (Symbol('l[%d]'%(i,))-Symbol('l[%d]'%(i,))*cos(th))\n",
    "    lagrangian -= Symbol('m[%d]'%(i,))*Symbol('g')*h\n",
    "    # E_kinetic ball_i\n",
    "    velocity[0] += Symbol('l[%d]'%(i,))*dth*cos(th)\n",
    "    velocity[1] += Symbol('l[%d]'%(i,))*dth*sin(th)\n",
    "    lagrangian += 0.5*Symbol('m[%d]'%(i,))*(velocity[0]**2+velocity[1]**2)\n",
    "\n",
    "\n",
    "equations = euler_lagrange(lagrangian,t,syms)\n",
    "ddxs = [ syms[i][2] for i in range(N+1) ]\n",
    "functions = solve(equations, ddxs)\n",
    "\n",
    "print simplify(functions)"
   ]
  },
  {
   "cell_type": "code",
   "execution_count": 5,
   "metadata": {
    "collapsed": false
   },
   "outputs": [],
   "source": [
    "with open('output/force_t7_%d.py'%(N,), 'w') as fd:\n",
    "    fd.write('from numpy import sin, cos, zeros_like\\n')\n",
    "    fd.write('def force(g, l, m, k, m_s):\\n')\n",
    "    fd.write('    def f(t, y):\\n')\n",
    "    fd.write('        values = zeros_like(y)\\n')\n",
    "    f = functions\n",
    "    for i in range(N+1):\n",
    "        th, dth, ddth = syms[i]\n",
    "        for j in range(N+1):\n",
    "            _, _, ddthj = syms[j]\n",
    "            f[ddthj] = f[ddthj].subs([(th,Symbol('y[%d,0]'%(i,))),(dth,Symbol('y[%d,1]'%(i,)))])\n",
    "    for i in range(N+1):\n",
    "        _, _, ddthi = syms[i]\n",
    "        fd.write('        values[%d,0] = y[%d,1]\\n'%(i,i))\n",
    "        fd.write('        values[%d,1] = '%(i,)+str(f[ddthi])+'\\n')\n",
    "    fd.write('        return values\\n')\n",
    "    fd.write('    return f\\n')"
   ]
  },
  {
   "cell_type": "code",
   "execution_count": 6,
   "metadata": {
    "collapsed": false
   },
   "outputs": [],
   "source": [
    "from output.force_t7_1 import force\n",
    "N = 1\n",
    "g = 9.80665\n",
    "l = np.array([1 for i in range(N)])\n",
    "m = np.array([1 for i in range(N)])\n",
    "\n",
    "k = 1\n",
    "m_s = 1\n",
    "\n",
    "f = force(g,l,m,k,m_s)\n",
    "\n",
    "# Initial state\n",
    "y0 = np.array([\n",
    "        [0,0],\n",
    "        [1.57,0]\n",
    "    ])\n",
    "\n",
    "t0 = 0.0\n",
    "t, y = solve_vec_interactive(RK4_method, f, y0, t0)"
   ]
  },
  {
   "cell_type": "code",
   "execution_count": null,
   "metadata": {
    "collapsed": true
   },
   "outputs": [],
   "source": [
    "def solve_vec_interactive(method, f, y0, t):\n",
    "    while\n",
    "    y = np.zeros((len(t), )+y0.shape, np.float64)\n",
    "    y[0] = y0\n",
    "    \n",
    "    for ti in range(1, len(t)):\n",
    "        y[ti] = method(f, t[ti-1], y[ti-1], h)\n",
    "    return t, y"
   ]
  },
  {
   "cell_type": "code",
   "execution_count": null,
   "metadata": {
    "collapsed": false,
    "scrolled": true
   },
   "outputs": [],
   "source": [
    "path = balls_animation(t, y, l, m, 800, 0.995, pre='t6')\n",
    "\n",
    "HTML('<video width=\"800\" height=\"800\" controls><source src=\"'+path+'\" type=\"video/mp4\"></video>')"
   ]
  },
  {
   "cell_type": "code",
   "execution_count": null,
   "metadata": {
    "collapsed": true
   },
   "outputs": [],
   "source": []
  },
  {
   "cell_type": "code",
   "execution_count": 18,
   "metadata": {
    "collapsed": true
   },
   "outputs": [],
   "source": [
    "def mass_to_radius(m, min_r, max_r):\n",
    "    if(np.max(m) == np.min(m)):\n",
    "        r = np.ones_like(m)*max_r\n",
    "    else:\n",
    "        r = (m-np.min(m))*((max_r-min_r)/(np.max(m)-np.min(m)))+min_r\n",
    "    return r.astype(int)\n",
    "\n",
    "def y_to_pos(y,l,shape,pos_start):\n",
    "    pos = []\n",
    "    pos.append(pos_start)\n",
    "    for i in range(len(y)):\n",
    "        theta = y[i, 0]\n",
    "        pos.append((\n",
    "                pos[i][0]+int(l[i]*np.sin(theta)),\n",
    "                pos[i][1]+int(l[i]*np.cos(theta))\n",
    "            ))\n",
    "    return pos\n",
    "\n",
    "def render_frame(y, l, r, size, meter_scale=1):\n",
    "    shape = (size,size,3)\n",
    "    img = np.zeros(shape)\n",
    "    \n",
    "    y_b = y[1:]\n",
    "        \n",
    "    pos_block = (shape[0]//2+int(y[0,0]*meter_scale), shape[0]//2)\n",
    "    pos = y_to_pos(y_b, l, shape, pos_block)\n",
    "\n",
    "    cv2.rectangle(img, (pos_block[0]-12,pos_block[1]-6), (pos_block[0]+12,pos_block[1]+6), [235,240,245], -1)\n",
    "\n",
    "    # lines\n",
    "    for i in range(len(y_b)):\n",
    "        cv2.line(img, pos[i], pos[i+1], [64,64,64], 2)\n",
    "    # balls\n",
    "    for i in range(len(y_b)):\n",
    "        cv2.circle(img, pos[i+1], r[i], [int(255-255*(float(i)/len(y_b))),32,int(255*(float(i)/len(y_b)))], -1)\n",
    "        cv2.circle(img, (pos[i+1][0]+r[i]//3,pos[i+1][1]-r[i]//3), r[i]//3, [235,240,245], -1)\n",
    "        pos_last = pos\n",
    "    \n",
    "    return img\n",
    "\n",
    "def balls_animation(t, y, l, m, size, trace_factor, pre=''):\n",
    "\n",
    "    \n",
    "    meter_scale = ((0.4 * size)/np.sum(l))\n",
    "    l_scaled = l * meter_scale\n",
    "    m_scaled = mass_to_radius(m, 6, 12)\n",
    "    for i in range(len(t)):\n",
    "        if i>0:\n",
    "            y_prev = y[i-1]\n",
    "        else:\n",
    "            y_prev = y[i]\n",
    "        frame = render_frame(y[i], y_prev, l_scaled, m_scaled, canvas, meter_scale=meter_scale, trace_factor=trace_factor)\n",
    "        video.write(frame.astype(np.uint8))\n",
    "    video.release()\n",
    "    \n",
    "    path_mp4 = path[:-4]+'.mp4'\n",
    "    os.popen(\"ffmpeg -i '{input}' -ac 2 -b:v 2000k -c:a aac -c:v libx264 -b:a 160k -vprofile high -bf 0 -strict experimental -f mp4 '{path_mp4}'\".format(input = path, path_mp4=path_mp4))\n",
    "    os.remove(path)\n",
    "    return path_mp4"
   ]
  },
  {
   "cell_type": "code",
   "execution_count": 20,
   "metadata": {
    "collapsed": false
   },
   "outputs": [
    {
     "data": {
      "image/png": "[encoded data removed]",
      "text/plain": [
       "<IPython.core.display.Image object>"
      ]
     },
     "metadata": {},
     "output_type": "display_data"
    }
   ],
   "source": [
    "from io import BytesIO\n",
    "from IPython.display import Image\n",
    "from ipywidgets import interactive, fixed\n",
    "import matplotlib.image as mplimg\n",
    "\n",
    "def display_image(img):\n",
    "    if img.ndim == 3:\n",
    "        format, cmap = 'png', None\n",
    "    else:\n",
    "        raise NotImplementedError(\"Only 3-d arrays can be displayed as images.\")\n",
    "    img_rgb = cv2.merge(cv2.split(img)[::-1])\n",
    "    with BytesIO() as buffer:\n",
    "        mplimg.imsave(buffer, img_rgb, format=format, cmap=cmap, vmin=0, vmax=255)\n",
    "        out = buffer.getvalue()\n",
    "    return Image(out)\n",
    "\n",
    "#def display_light_field_control(image, color=0.5):\n",
    "#    output_img = (image*[1,1,color]).astype(np.uint8)\n",
    "#    return display_image(output_img)\n",
    "frame_size = 600\n",
    "\n",
    "t0 = time.time()\n",
    "y0 = np.array([[0,0], [1.57,0]])\n",
    "\n",
    "meter_scale = ((0.4 * frame_size)/np.sum(l))\n",
    "l_scaled = l * meter_scale\n",
    "m_scaled = mass_to_radius(m, 6, 12)\n",
    "\n",
    "def solve_vec_interactive(method, f, color=0):\n",
    "    t = time.time()\n",
    "    h = t - t0\n",
    "    y = method(f, t0, y0, h)\n",
    "    frame = render_frame(y, l_scaled, m_scaled, frame_size, meter_scale=meter_scale)\n",
    "    return display_image(frame)\n",
    "\n",
    "color_lims = (0., 1., 0.1)\n",
    "interactive(solve_vec_interactive, method=fixed(RK4_method), f=fixed(f), color=color_lims)"
   ]
  }
 ],
 "metadata": {
  "anaconda-cloud": {},
  "kernelspec": {
   "display_name": "Python [conda root]",
   "language": "python",
   "name": "conda-root-py"
  },
  "language_info": {
   "codemirror_mode": {
    "name": "ipython",
    "version": 2
   },
   "file_extension": ".py",
   "mimetype": "text/x-python",
   "name": "python",
   "nbconvert_exporter": "python",
   "pygments_lexer": "ipython2",
   "version": "2.7.12"
  }
 },
 "nbformat": 4,
 "nbformat_minor": 1
}
